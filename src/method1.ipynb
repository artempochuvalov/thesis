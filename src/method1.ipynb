{
 "cells": [
  {
   "cell_type": "code",
   "execution_count": 1,
   "id": "67f7c390",
   "metadata": {},
   "outputs": [],
   "source": [
    "from uuid import uuid4\n",
    "import numpy as np\n",
    "from numpy.typing import NDArray\n",
    "import numba as nb\n",
    "from scipy import stats\n",
    "from typing import Callable, Tuple"
   ]
  },
  {
   "cell_type": "code",
   "execution_count": 2,
   "id": "33d6901f-6f06-4616-a28a-d0cd594bba25",
   "metadata": {},
   "outputs": [],
   "source": [
    "class EventType:\n",
    "    ARRIVAL = 'Arrival'\n",
    "    LEAVE = 'Leave'\n",
    "    DEPARTURE = 'Departure'"
   ]
  },
  {
   "cell_type": "code",
   "execution_count": 3,
   "id": "f7235aba-f9e3-4476-8393-e19535303ea3",
   "metadata": {},
   "outputs": [],
   "source": [
    "def solver_iteration(\n",
    "    T: float,\n",
    "    arrive_cdf: Callable[[], float],\n",
    "    departure_cdf: Callable[[], float],\n",
    "    leave_cdf: Callable[[], float],\n",
    "    n: int,\n",
    "    N: int\n",
    "):\n",
    "    leave_num = 0\n",
    "    response_times = np.array([])\n",
    "    \n",
    "    arrival_time = arrive_cdf()\n",
    "    leave = leave_cdf()\n",
    "    \n",
    "    request_times_queue = np.empty((2, 0), dtype=float)\n",
    "    departure_times = np.full((2, n), -1, dtype=float)\n",
    "\n",
    "    time = 0.0\n",
    "    while time < T:\n",
    "        time, event_type = get_next_event(arrival_time, request_times_queue, departure_times)            \n",
    "        \n",
    "        if event_type == EventType.ARRIVAL:\n",
    "            arrival_time, leaves, request_times_queue, departure_times = arrival(\n",
    "                time,\n",
    "                request_times_queue,\n",
    "                departure_times,\n",
    "                arrive_cdf,\n",
    "                departure_cdf,\n",
    "                leave_cdf,\n",
    "                N\n",
    "            )\n",
    "            if leaves:\n",
    "                leave_num += 1\n",
    "        elif event_type == EventType.DEPARTURE:\n",
    "            response_time, request_times_queue, departure_time = departure(\n",
    "                time,\n",
    "                request_times_queue,\n",
    "                departure_times,\n",
    "                departure_cdf\n",
    "            )\n",
    "            response_times = np.append(response_times, response_time)\n",
    "        else:\n",
    "            request_times_queue = on_leave(time, request_times_queue)\n",
    "            leave_num += 1\n",
    "            \n",
    "    return np.mean(response_times), leave_num"
   ]
  },
  {
   "cell_type": "code",
   "execution_count": 26,
   "id": "b70fa56d-097b-4366-aae8-06654b765e14",
   "metadata": {},
   "outputs": [],
   "source": [
    "def get_next_event(\n",
    "    arrival_time: float,\n",
    "    request_times_queue: NDArray[Tuple[float, float]],\n",
    "    departure_times: NDArray[Tuple[float, float]],\n",
    ") -> Tuple[float, str]:\n",
    "    event_type = EventType.ARRIVAL\n",
    "    min_time = arrival_time\n",
    "\n",
    "    min_departure_time = np.min(departure_times[1][departure_times[1] != -1], initial=min_time)\n",
    "    min_leave_time = np.min(request_times_queue[1], initial=min_time)\n",
    "    \n",
    "    if min_departure_time < min_time: \n",
    "        min_time = min_departure_time\n",
    "        event_type = EventType.DEPARTURE\n",
    "    if min_leave_time < min_time:\n",
    "        min_time = min_leave_time\n",
    "        event_type = EventType.LEAVE\n",
    "\n",
    "    return min_time, event_type\n",
    "\n",
    "def arrival(\n",
    "    time: float,\n",
    "    request_times_queue: NDArray[Tuple[float, float]],\n",
    "    departure_times: NDArray[Tuple[float, float]],\n",
    "    arrive_cdf: Callable[[], float],\n",
    "    departure_cdf: Callable[[], float],\n",
    "    leave_cdf: Callable[[], float],\n",
    "    N: int\n",
    ") -> Tuple[float, bool, NDArray[Tuple[float, float]], NDArray[Tuple[float, float]]]:\n",
    "    all_servers_busy = True\n",
    "    leaves = False\n",
    "    \n",
    "    for i in range (len(departure_times[1])):\n",
    "        if departure_times[1][i] == -1: # если сервер свободен\n",
    "            all_servers_busy = False\n",
    "\n",
    "            mu = departure_cdf()\n",
    "            departure_times[0][i] = time\n",
    "            departure_times[1][i] = time + mu # планируем обработку запроса\n",
    "            break\n",
    "\n",
    "    if all_servers_busy:\n",
    "        gamma = leave_cdf()\n",
    "        if len(request_times_queue[1]) == N:\n",
    "            leaves = True\n",
    "        else:\n",
    "            request_times_queue = np.append(request_times_queue, [[time], [time + gamma]], axis=1)\n",
    "    \n",
    "    alpha = arrive_cdf()\n",
    "    return time + alpha, leaves, request_times_queue, departure_times\n",
    "\n",
    "def departure(\n",
    "    time: float,\n",
    "    request_times_queue: NDArray[Tuple[float, float]],\n",
    "    departure_times: NDArray[Tuple[float, float]],\n",
    "    departure_cdf: Callable[[], float],\n",
    ") -> Tuple[float, NDArray[Tuple[float, float]], NDArray[Tuple[float, float]]]:\n",
    "    i = np.where(departure_times[1] == time)[0]\n",
    "    response_time = departure_times[1][i] - departure_times[0][i]\n",
    "    \n",
    "    if (len(request_times_queue[1]) == 0): # если очередь пуста\n",
    "        departure_times[0, i] = -1\n",
    "        departure_times[1, i] = -1\n",
    "    else:\n",
    "        departure_times[0, i] = request_times_queue[[0], [0]]\n",
    "        \n",
    "        gamma = departure_cdf()\n",
    "        departure_times[1, i] = time + gamma # планируем обработку запроса\n",
    "        request_times_queue = np.delete(request_times_queue, [[0], [0]], axis=1)\n",
    "    return response_time, request_times_queue, departure_times\n",
    "\n",
    "def on_leave(\n",
    "    time: float,\n",
    "    request_times_queue: NDArray[Tuple[float, float]]\n",
    ") -> NDArray[Tuple[float, float]]:\n",
    "    i = np.where(request_times_queue[1] == time)[0]\n",
    "    request_times_queue = np.delete(request_times_queue, [[i], [i]], axis=1)\n",
    "\n",
    "    return request_times_queue"
   ]
  },
  {
   "cell_type": "code",
   "execution_count": 88,
   "id": "5acae852-826a-4be5-a7e7-45e5c21de01a",
   "metadata": {},
   "outputs": [],
   "source": [
    "arrive_cdf = lambda: stats.expon.rvs(0, 0.3)\n",
    "departure_cdf = lambda: stats.expon.rvs(0, 150)\n",
    "leave_cdf = lambda: stats.expon.rvs(0, 500)"
   ]
  },
  {
   "cell_type": "code",
   "execution_count": 89,
   "id": "e35e33d8-4f48-4412-b010-280af86fa36d",
   "metadata": {},
   "outputs": [
    {
     "data": {
      "text/plain": [
       "(3143.557391066418, 331370)"
      ]
     },
     "execution_count": 89,
     "metadata": {},
     "output_type": "execute_result"
    }
   ],
   "source": [
    "solver_iteration(100000, arrive_cdf, departure_cdf, leave_cdf, 1, 50000)"
   ]
  },
  {
   "cell_type": "code",
   "execution_count": null,
   "id": "fe745c85-02aa-488a-84e2-0921ef5a78d8",
   "metadata": {},
   "outputs": [],
   "source": []
  }
 ],
 "metadata": {
  "kernelspec": {
   "display_name": "Python 3 (ipykernel)",
   "language": "python",
   "name": "python3"
  },
  "language_info": {
   "codemirror_mode": {
    "name": "ipython",
    "version": 3
   },
   "file_extension": ".py",
   "mimetype": "text/x-python",
   "name": "python",
   "nbconvert_exporter": "python",
   "pygments_lexer": "ipython3",
   "version": "3.9.0"
  }
 },
 "nbformat": 4,
 "nbformat_minor": 5
}
